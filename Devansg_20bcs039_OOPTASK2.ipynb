{
  "nbformat": 4,
  "nbformat_minor": 0,
  "metadata": {
    "colab": {
      "name": "Devansg_20bcs039_OOPTASK2.ipynb",
      "provenance": [],
      "authorship_tag": "ABX9TyP8+5Wq4MyQ+rSRdGNA+szc",
      "include_colab_link": true
    },
    "kernelspec": {
      "name": "python3",
      "display_name": "Python 3"
    },
    "language_info": {
      "name": "python"
    }
  },
  "cells": [
    {
      "cell_type": "markdown",
      "metadata": {
        "id": "view-in-github",
        "colab_type": "text"
      },
      "source": [
        "<a href=\"https://colab.research.google.com/github/devansh-m12/Devansh_20BCS039_OOPTasks/blob/main/Devansg_20bcs039_OOPTASK2.ipynb\" target=\"_parent\"><img src=\"https://colab.research.google.com/assets/colab-badge.svg\" alt=\"Open In Colab\"/></a>"
      ]
    },
    {
      "cell_type": "code",
      "metadata": {
        "colab": {
          "base_uri": "https://localhost:8080/"
        },
        "id": "yyl3Rx0uTvGk",
        "outputId": "e12b341e-1130-468c-c0b3-ea787d4b9c6d"
      },
      "source": [
        "import numpy as np\n",
        "\n",
        "class Circle:\n",
        "  def __init__(self, radius):\n",
        "    self.radius = radius\n",
        "\n",
        "  def perimeter(self):\n",
        "    return 2*np.pi*self.radius\n",
        "\n",
        "  def area(self):\n",
        "    return np.pi*(self.radius**2)\n",
        "\n",
        "r = int(input(\"Enter the radius: \"))\n",
        "circle = Circle(r)\n",
        "print(\"Perimeter:\", circle.perimeter())\n",
        "print(\"Area:\", circle.area())"
      ],
      "execution_count": 2,
      "outputs": [
        {
          "output_type": "stream",
          "name": "stdout",
          "text": [
            "Enter the radius: 5\n",
            "Perimeter: 31.41592653589793\n",
            "Area: 78.53981633974483\n"
          ]
        }
      ]
    },
    {
      "cell_type": "code",
      "metadata": {
        "id": "swacJ0QiUeXj"
      },
      "source": [
        "\n",
        "class teacher:\n",
        "  def __init__(self, Name, EmpID, Branch, Salary):\n",
        "    self.Name = Name\n",
        "    self.EmpID = EmpID\n",
        "    self.Branch = Branch\n",
        "    self.Salary = Salary\n",
        "\n",
        "  def dispDetails(self):\n",
        "    print(\"------------------------------------------------\")\n",
        "    print(\"Name:\", self.Name)\n",
        "    print(\"Emp ID:\", self.EmpID)\n",
        "    print(\"Branch:\", self.Branch)\n",
        "    print(\"Salary:\", self.Salary)\n",
        "    print(\"-------------------------------------------------\")\n",
        "\n",
        "teach_list = []\n",
        "for i in range(10):\n",
        "  print(\"-------------------------------------------------\")\n",
        "  Name = str(input(\"Enter the name: \"))\n",
        "  Emp_ID = str(input(\"Enter the Employee ID: \")) \n",
        "  Branch = str(input(\"Enter the branch: \"))\n",
        "  Salary = int(input(\"Enter the salary: \"))\n",
        "  teach_list.append(teacher(Name, Emp_ID, Branch, Salary))\n",
        "  print(\"------------------------------------------------\")\n",
        "\n",
        "for i in range(10):\n",
        "  teach_list[i].dispDetails()"
      ],
      "execution_count": null,
      "outputs": []
    },
    {
      "cell_type": "code",
      "metadata": {
        "id": "EE1MNlyDVvPd"
      },
      "source": [
        "class account:\n",
        "  def __init__(self, Name, Account_No, Deposit):\n",
        "    self.accountNumber = Account_No\n",
        "    self.Name = Name\n",
        "    self.Savings = Deposit\n",
        "\n",
        "  def Deposit(self, amount):\n",
        "    self.Savings += amount\n",
        "    print(\"===============================================\")\n",
        "    print(f\"Rs {amount} has been deposited\")\n",
        "    print(f\"current savings: {self.Savings}\")\n",
        "    print(\"===============================================\")\n",
        "\n",
        "  def Withdraw(self, amount):\n",
        "    if (amount > self.Savings):\n",
        "      print(\"===============================================\")\n",
        "      print(\"Insufficient savings\")\n",
        "      print(\"===============================================\")\n",
        "    else:\n",
        "      print(\"===============================================\")\n",
        "      self.Savings -= amount\n",
        "      print(f\"Rs {amount} has been withdrawn\")\n",
        "      print(f\"current savings: {self.Savings}\")\n",
        "      print(\"===============================================\")\n",
        "\n",
        "  def check_balance(self):\n",
        "    print(\"===============================================\")\n",
        "    print(f\"current savings: {self.Savings}\")\n",
        "    print(\"===============================================\")\n",
        "\n",
        "  def displayAccount(self):\n",
        "    print(\"===============================================\")\n",
        "    print(\"Name:\", self.Name)\n",
        "    print(\"Account Number\", self.accountNumber)\n",
        "    print(f\"current savings: {self.Savings}\")\n",
        "    print(\"===============================================\")\n",
        "\n",
        "name = str(input(\"Enter your name: \"))\n",
        "account_no = int(input(\"Enter the account number: \"))\n",
        "deposit = int(input(\"Enter the initial balance: \"))\n",
        "User_acc = account(name, account_no, deposit)\n",
        "\n",
        "while True:\n",
        "  choice = int(input(\"Select an option:\\n1. Deposit\\n2. Withdraw\\n3. Check Balance\\n4. Display Account\\n5. Exit\\n\"))\n",
        "  if choice == 1:\n",
        "    amount = int(input(\"Enter the amount to deposit: \"))\n",
        "    User_acc.Deposit(amount)\n",
        "  elif choice == 2:\n",
        "    amount = int(input(\"Enter the amount to withdraw: \"))\n",
        "    User_acc.Withdraw(amount)\n",
        "  elif choice == 3:\n",
        "    User_acc.check_balance()\n",
        "  elif choice == 4:\n",
        "    User_acc.displayAccount()\n",
        "  elif choice == 5:\n",
        "    break\n",
        "  else:\n",
        "    print(\"enter a valid choice\")"
      ],
      "execution_count": null,
      "outputs": []
    },
    {
      "cell_type": "code",
      "metadata": {
        "id": "hRP_rB-TVxgq"
      },
      "source": [
        "class Student:\n",
        "  def __init__(self, name, USN, marks : list):\n",
        "    self.name = name\n",
        "    self.USN = USN\n",
        "    self.marks = marks\n",
        "\n",
        "  def disp(self):\n",
        "    print(\"Name:\", self.name)\n",
        "    print(\"USN:\", self.USN)\n",
        "    print(\"Maths:\", self.marks[0])\n",
        "    print(\"Physics:\", self.marks[1])\n",
        "    print(\"Chemistry:\", self.marks[2])\n",
        "\n",
        "S1 = Student(\"Yahs\", \"20BCS0\", [60, 50, 60])\n",
        "S1.disp()"
      ],
      "execution_count": null,
      "outputs": []
    },
    {
      "cell_type": "code",
      "metadata": {
        "id": "_d94fgNzV1v6"
      },
      "source": [
        "class Patient:\n",
        "  def __init__(self, name, admission_date, symptoms : list, oxy_level, discharge_date):\n",
        "    self.name = name\n",
        "    self.admission_date = admission_date\n",
        "    self.symptoms = symptoms\n",
        "    self.oxy_level = oxy_level\n",
        "    self.discharge_date = discharge_date\n",
        "\n",
        "class PatientData:\n",
        "  def __init__(self):\n",
        "    self.oxygen_support = []\n",
        "    self.general_ward = []\n",
        "\n",
        "  def addPatient(self, patient):\n",
        "    if (patient.oxy_level < 90):\n",
        "      self.oxygen_support.append(patient)\n",
        "    else:\n",
        "      self.general_ward.append(patient)\n",
        "\n",
        "  def numberOxygen(self):\n",
        "    print(f\"The number of patients needing oxygen support is {len(self.oxygen_support)}\")\n",
        "\n",
        "  def numberGeneral(self):\n",
        "    print(f\"The number of patients in general ward is {len(self.general_ward)}\")\n",
        "\n",
        "  def totalPatients(self):\n",
        "    print(f\"The number of patients is {len(self.general_ward)+len(self.oxygen_support)}\")\n",
        "\n",
        "  def patientInfo(self):\n",
        "    print(\"Patients in oxygen support\")\n",
        "    print(\"========================================================\")\n",
        "    for patient in self.oxygen_support:\n",
        "      print(\"========================================================\")\n",
        "      print(\"Name:\", patient.name)\n",
        "      print(\"Admission Date:\", patient.admission_date)\n",
        "      print(\"symptoms:\", patient.symptoms)\n",
        "      print(\"oxygen level:\", patient.oxy_level)\n",
        "      print(\"Discharge Date:\", patient.discharge_date)\n",
        "      print(\"========================================================\")\n",
        "\n",
        "    print(\"Patients in General ward\")\n",
        "    print(\"========================================================\")\n",
        "    for patient in self.general_ward:\n",
        "      print(\"========================================================\")\n",
        "      print(\"Name:\", patient.name)\n",
        "      print(\"Admission Date:\", patient.admission_date)\n",
        "      print(\"symptoms:\", patient.symptoms)\n",
        "      print(\"oxygen level:\", patient.oxy_level)\n",
        "      print(\"Discharge Date:\", patient.discharge_date)\n",
        "      print(\"========================================================\")\n",
        "\n",
        "p1 = Patient(\"ABC\", \"6/09/2021\", [\"Dengu\", \"Nausea\"], 80, \"30/09/2021\")\n",
        "p2 = Patient(\"XYZ\", \"10/09/2021\", [\"Fatigue\", \"Fever\"], 110, \"28/09/2021\")\n",
        "\n",
        "db = PatientData()\n",
        "db.addPatient(p1)\n",
        "db.addPatient(p2)\n",
        "db.patientInfo()\n",
        "db.numberOxygen()\n",
        "db.numberGeneral()\n",
        "db.totalPatients()"
      ],
      "execution_count": null,
      "outputs": []
    },
    {
      "cell_type": "code",
      "metadata": {
        "id": "xIrXInwCV8F5"
      },
      "source": [
        "class Time:\n",
        "  def __init__(self, hour = 0, mins = 0, secs = 0):\n",
        "    self.mins = secs//60\n",
        "    self.secs = secs%60\n",
        "    self.mins += mins\n",
        "    self.hour = self.mins//60\n",
        "    self.mins = self.mins%60\n",
        "    self.hour = self.hour%24\n",
        "\n",
        "  def disp(self):\n",
        "    print(\"{0:2d}:{1:2d}:{2:2d}\".format(self.hour, self.mins, self.secs))\n",
        "\n",
        "zero_time = Time()\n",
        "zero_time.disp()\n",
        "\n",
        "random_time = Time(25, 67, 120)\n",
        "random_time.disp()"
      ],
      "execution_count": null,
      "outputs": []
    },
    {
      "cell_type": "code",
      "metadata": {
        "colab": {
          "base_uri": "https://localhost:8080/"
        },
        "id": "OvT3z1tfWB0-",
        "outputId": "d2a21991-c28a-451a-cb80-8b710ca3fe4c"
      },
      "source": [
        "class Student:\n",
        "  def __init__(self, name : str, age : int, roll_number : int):\n",
        "    self.name = name\n",
        "    self.age = age\n",
        "    self.roll = roll_number\n",
        "    \n",
        "  @classmethod\n",
        "  def compareAge(cls, s1, s2):\n",
        "    if s1.age == s2.age:\n",
        "      print(\"Equal age\")\n",
        "    else:\n",
        "      print(\"Ages not equal\")\n",
        "\n",
        "devansh = Student(\"devansh\", 20, 19)\n",
        "harsh = Student(\"harsh\", 19, 20)\n",
        "\n",
        "Student.compareAge(devansh, harsh)"
      ],
      "execution_count": 9,
      "outputs": [
        {
          "output_type": "stream",
          "name": "stdout",
          "text": [
            "Ages not equal\n"
          ]
        }
      ]
    },
    {
      "cell_type": "code",
      "metadata": {
        "id": "dHxrpNFMWEhf"
      },
      "source": [
        "class Student:\n",
        "  sem = 3\n",
        "  Institute = \"Indian Institute of Information Technology\"\n",
        "  def __init__(self, name : str, usn : int):\n",
        "    self.name = name\n",
        "    self.usn = usn\n",
        "\n",
        "  def dispInst(self):\n",
        "    print(\"sem:\", self.sem)\n",
        "    print(\"Institute:\", self.Institute)\n",
        "    print(\"Name:\", self.name)\n",
        "    print(\"USN:\", self.usn)\n",
        "\n",
        "  @classmethod\n",
        "  def dispCls(cls):\n",
        "    print(\"Class Sem:\", cls.sem)\n",
        "    print(\"Class institute:\", cls.Institute)\n",
        "\n",
        "s1 = Student(\"Harsh\", 19)\n",
        "s1.dispInst()\n",
        "print(\"============================================================\")\n",
        "Student.dispCls()"
      ],
      "execution_count": null,
      "outputs": []
    },
    {
      "cell_type": "code",
      "metadata": {
        "colab": {
          "base_uri": "https://localhost:8080/"
        },
        "id": "VpnnOqU1WLE4",
        "outputId": "4046dab2-b4a8-4463-f98d-a10af5cb073b"
      },
      "source": [
        "class Student_Uni:\n",
        "\n",
        "  def __init__(self, Name, roll_number, sem, laptop_name, laptop_cpu, laptop_ram, laptop_hard_disk):\n",
        "    self.name = Name\n",
        "    self.roll_num = roll_number\n",
        "    self.sem = sem\n",
        "    self.laptop = self.Laptop(laptop_name, laptop_cpu, laptop_ram, laptop_hard_disk)\n",
        "\n",
        "\n",
        "  class Laptop:\n",
        "    def __init__(self, name, cpu, ram : int, hard_disk):\n",
        "      self.name = name\n",
        "      self.cpu = cpu\n",
        "      self.ram = ram\n",
        "      self.hard_disk = hard_disk\n",
        "\n",
        "    def specifications(self):\n",
        "      print(\"Laptop Name:\", self.name)\n",
        "      print(\"Laptop CPU:\", self.cpu)\n",
        "      print(\"Laptop RAM:\", self.ram, \"GB\")\n",
        "      print(\"Laptop Hard disk:\", self.hard_disk)\n",
        "\n",
        "  def disp(self):\n",
        "    print(\"Name:\", self.name)\n",
        "    print(\"Roll Number:\", self.roll_num)\n",
        "    print(\"Sem:\", self.sem)\n",
        "    self.laptop.specifications()\n",
        "\n",
        "Amit = Student_Uni(\"Harsh\", 50 , 3,\"HP OMEN\", \"Intel i12\", 16, \"512 GB SSD\")\n",
        "Amit.disp()"
      ],
      "execution_count": 10,
      "outputs": [
        {
          "output_type": "stream",
          "name": "stdout",
          "text": [
            "Name: Amit\n",
            "Roll Number: 50\n",
            "Sem: 3\n",
            "Laptop Name: HP OMEN\n",
            "Laptop CPU: Intel i12\n",
            "Laptop RAM: 16 GB\n",
            "Laptop Hard disk: 512 GB SSD\n"
          ]
        }
      ]
    }
  ]
}