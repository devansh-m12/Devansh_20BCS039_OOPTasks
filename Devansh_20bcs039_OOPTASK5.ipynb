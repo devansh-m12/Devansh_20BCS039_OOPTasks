{
  "nbformat": 4,
  "nbformat_minor": 0,
  "metadata": {
    "colab": {
      "name": "Devansh_20bcs039_OOPTASK5.ipynb",
      "provenance": [],
      "authorship_tag": "ABX9TyOLQaP/nlb6iWFHY5EzprfA",
      "include_colab_link": true
    },
    "kernelspec": {
      "name": "python3",
      "display_name": "Python 3"
    },
    "language_info": {
      "name": "python"
    }
  },
  "cells": [
    {
      "cell_type": "markdown",
      "metadata": {
        "id": "view-in-github",
        "colab_type": "text"
      },
      "source": [
        "<a href=\"https://colab.research.google.com/github/devansh-m12/Devansh_20BCS039_OOPTasks/blob/main/Devansh_20bcs039_OOPTASK5.ipynb\" target=\"_parent\"><img src=\"https://colab.research.google.com/assets/colab-badge.svg\" alt=\"Open In Colab\"/></a>"
      ]
    },
    {
      "cell_type": "markdown",
      "metadata": {
        "id": "pwt-PvHSBL0Z"
      },
      "source": [
        "Write a Python programme to create the parent class shape, derive the subclasses circle, square, and rectangle from the class shape, and demonstrate polymorphism in inheritance using a member function area ()"
      ]
    },
    {
      "cell_type": "code",
      "metadata": {
        "colab": {
          "base_uri": "https://localhost:8080/"
        },
        "id": "zpqcL5JuBEYd",
        "outputId": "1f4a7696-454d-4756-9d39-83b5e112cede"
      },
      "source": [
        "from math import pi\n",
        "\n",
        "\n",
        "class Shape:\n",
        "    def __init__(self, name):\n",
        "        self.name = name\n",
        "\n",
        "    def area(self):\n",
        "        pass\n",
        "\n",
        "    def __str__(self):\n",
        "        return self.name\n",
        "\n",
        "\n",
        "class Square(Shape):\n",
        "    def __init__(self, length):\n",
        "        super().__init__(\"Square\")\n",
        "        self.length = length\n",
        "\n",
        "    def area(self):\n",
        "        return self.length**2\n",
        "\n",
        "class Rectangle(Shape):\n",
        "    def __init__(self, length, breath):\n",
        "        super().__init__(\"Rectangle\")\n",
        "        self.length = length\n",
        "        self.breath = breath\n",
        "\n",
        "    def area(self):\n",
        "        return self.length*self.breath\n",
        "\n",
        "class Circle(Shape):\n",
        "    def __init__(self, radius):\n",
        "        super().__init__(\"Circle\")\n",
        "        self.radius = radius\n",
        "\n",
        "    def area(self):\n",
        "        return pi*self.radius**2\n",
        "\n",
        "\n",
        "a = Square(4)\n",
        "b = Circle(7)\n",
        "c = Rectangle(7, 3)\n",
        "print(a.area())\n",
        "print(b.area())\n",
        "print(c.area())"
      ],
      "execution_count": 12,
      "outputs": [
        {
          "output_type": "stream",
          "name": "stdout",
          "text": [
            "16\n",
            "153.93804002589985\n",
            "21\n"
          ]
        }
      ]
    },
    {
      "cell_type": "markdown",
      "metadata": {
        "id": "53NfTi8mEQU3"
      },
      "source": [
        "The family has decided to travel by road from Dharwad to Belagavi, and they have chosen to estimate the cost before starting on this journey. Write python code to create the parent class Travel with member functions include the number of passengers, the distance travelled, and the mode of transportation. Derive two subclasses, train and bus, from the parent class, each with a member function that calculates the cost of trip. Also, keep the numbers of passengers as a private member of the parent class and try to access it through the child class to estimate costs.\n",
        "[Note: Assume cost of travelling/person through train = 60 rs, cost of travelling /person through bus= 100 rs].\n"
      ]
    },
    {
      "cell_type": "code",
      "metadata": {
        "colab": {
          "base_uri": "https://localhost:8080/"
        },
        "id": "5xqFPOPKETnD",
        "outputId": "ba273cfe-5273-4175-f0d3-1a6ef681f8bf"
      },
      "source": [
        "class Travel:\n",
        "  mode = \"\"\n",
        "  def __init__(self, mode):\n",
        "    self.__passengers = int(input(\" Number of passengers : \"))\n",
        "    self.distance = int(input(\" Distance travelled : \"))\n",
        "    self.mode = mode\n",
        "  def getpassenger(self):\n",
        "    return self.__passengers\n",
        "class train(Travel):\n",
        "  cost = 60\n",
        "  def __init__(self):\n",
        "    print(\" TRAIN\")\n",
        "    Travel.__init__(self, \"Train\")\n",
        "  def Cost(self):\n",
        "    return self.cost * self.getpassenger()\n",
        "class bus(Travel):\n",
        "  cost = 100\n",
        "  def __init__(self):\n",
        "    print(\" BUS\")\n",
        "    Travel.__init__(self, \"Bus\")\n",
        "  def Cost(self):\n",
        "    return self.cost * self.getpassenger()\n",
        "t = train()\n",
        "tcost = t.Cost()\n",
        "print(\" Cost by train =\", tcost)\n",
        "b = bus()\n",
        "bcost = b.Cost()\n",
        "print(\" Cost by bus =\", bcost)"
      ],
      "execution_count": 36,
      "outputs": [
        {
          "output_type": "stream",
          "name": "stdout",
          "text": [
            " TRAIN\n",
            " Number of passengers : 2\n",
            " Distance travelled : 452\n",
            " Cost by train = 120\n",
            " BUS\n",
            " Number of passengers : 2\n",
            " Distance travelled : 452\n",
            " Cost by bus = 200\n"
          ]
        }
      ]
    },
    {
      "cell_type": "markdown",
      "metadata": {
        "id": "4kNICf1qEbhj"
      },
      "source": [
        "Assume that there a class Car with model number as its member variable. Write a python\n",
        "program to swap the values of model number in Car objects c1 and c2.\n"
      ]
    },
    {
      "cell_type": "code",
      "metadata": {
        "colab": {
          "base_uri": "https://localhost:8080/"
        },
        "id": "TfzQJlUKEenm",
        "outputId": "dd221c96-cb1d-4b06-bcbe-d29e62524073"
      },
      "source": [
        "class Car:\n",
        "\n",
        "  def __init__(self, model_no):\n",
        "    self.model_no = model_no\n",
        "\n",
        "  def print_model_no(self):\n",
        "    print(self.model_no)\n",
        "\n",
        "c1 = Car(\"model no. of c1 = a123\")\n",
        "c1.print_model_no()\n",
        "\n",
        "c2 = Car(\"model no. of c2 = b123\")\n",
        "c2.print_model_no()\n",
        "print(\"\\n\")\n",
        "\n",
        "c1, c2 = c2, c1\n",
        "\n",
        "c1.print_model_no()\n",
        "c2.print_model_no()"
      ],
      "execution_count": 21,
      "outputs": [
        {
          "output_type": "stream",
          "name": "stdout",
          "text": [
            "model no. of c1 = a123\n",
            "model no. of c2 = b123\n",
            "\n",
            "\n",
            "model no. of c2 = b123\n",
            "model no. of c1 = a123\n"
          ]
        }
      ]
    }
  ]
}