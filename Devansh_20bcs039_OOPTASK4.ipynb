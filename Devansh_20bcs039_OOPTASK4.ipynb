{
  "nbformat": 4,
  "nbformat_minor": 0,
  "metadata": {
    "colab": {
      "name": "Devansh_20bcs039_OOPTASK4.ipynb",
      "provenance": [],
      "authorship_tag": "ABX9TyM2soPBW59yAPxiOx3dtJ1R",
      "include_colab_link": true
    },
    "kernelspec": {
      "name": "python3",
      "display_name": "Python 3"
    },
    "language_info": {
      "name": "python"
    }
  },
  "cells": [
    {
      "cell_type": "markdown",
      "metadata": {
        "id": "view-in-github",
        "colab_type": "text"
      },
      "source": [
        "<a href=\"https://colab.research.google.com/github/devansh-m12/Devansh_20BCS039_OOPTasks/blob/main/Devansh_20bcs039_OOPTASK4.ipynb\" target=\"_parent\"><img src=\"https://colab.research.google.com/assets/colab-badge.svg\" alt=\"Open In Colab\"/></a>"
      ]
    },
    {
      "cell_type": "markdown",
      "metadata": {
        "id": "iN92ZxecJUfF"
      },
      "source": [
        "### Write a python code to create a class node with data and address of next node as parameters. Derive stack class from node class with top position or head node position as a parameter and also perform the following operations.\n",
        "Check stack is empty\n",
        "Add data to stack\n",
        "Delete data from the stack.\n",
        "Display the elements of the stack.\n",
        "Deallocate the memory assigned to each node using destructors.\n"
      ]
    },
    {
      "cell_type": "code",
      "metadata": {
        "colab": {
          "base_uri": "https://localhost:8080/"
        },
        "id": "qBKvOZN5JMJG",
        "outputId": "ed7ba22a-aca6-4bf8-d0c5-617f5d5aefe3"
      },
      "source": [
        "class Node: \n",
        "      \n",
        "    def __init__(self,data): \n",
        "        self.data = data \n",
        "        self.next = None\n",
        "      \n",
        "class Stack: \n",
        "    def __init__(self): \n",
        "        self.head = None\n",
        "      \n",
        "    def isempty(self):          # Checks if stack is empty \n",
        "        if self.head == None: \n",
        "            return True\n",
        "        else: \n",
        "            return False\n",
        "\n",
        "    def push(self,data):        # Add data to stack\n",
        "          \n",
        "        if self.head == None: \n",
        "            self.head=Node(data) \n",
        "              \n",
        "        else: \n",
        "            newnode = Node(data) \n",
        "            newnode.next = self.head \n",
        "            self.head = newnode \n",
        "      \n",
        "    def pop(self):             # Delete data from the stack\n",
        "          \n",
        "        if self.isempty(): \n",
        "            return None\n",
        "              \n",
        "        else: \n",
        "            poppednode = self.head \n",
        "            self.head = self.head.next\n",
        "            poppednode.next = None\n",
        "            return poppednode.data \n",
        "      \n",
        "    def peek(self): \n",
        "          \n",
        "        if self.isempty(): \n",
        "            return None\n",
        "              \n",
        "        else: \n",
        "            return self.head.data \n",
        "          \n",
        "    def display(self):            # Display the elements of the stack\n",
        "          \n",
        "        iternode = self.head \n",
        "        if self.isempty(): \n",
        "            print(\"Stack Underflow\") \n",
        "          \n",
        "        else: \n",
        "              \n",
        "            while(iternode != None): \n",
        "                  \n",
        "                print(iternode.data,\"->\",end = \" \") \n",
        "                iternode = iternode.next\n",
        "            return\n",
        "          \n",
        "# Driver code \n",
        "MyStack = Stack()\n",
        "\n",
        "MyStack.push(7)\n",
        "MyStack.push(8)\n",
        "MyStack.push(9)\n",
        "MyStack.push(10)\n",
        " \n",
        "MyStack.display() # Display the elements of the stack\n",
        "print(\"\\nTop element is \",MyStack.peek()) \n",
        "  \n",
        "\n",
        "MyStack.pop() # Delete data from the stack\n",
        "MyStack.pop() \n",
        "  \n",
        "\n",
        "MyStack.display() # Display the elements of the stack\n",
        "print(\"\\nTop element is \", MyStack.peek())  "
      ],
      "execution_count": 21,
      "outputs": [
        {
          "output_type": "stream",
          "name": "stdout",
          "text": [
            "10 -> 9 -> 8 -> 7 -> \n",
            "Top element is  10\n",
            "8 -> 7 -> \n",
            "Top element is  8\n"
          ]
        }
      ]
    },
    {
      "cell_type": "markdown",
      "metadata": {
        "id": "GcNyRNuJJTSY"
      },
      "source": [
        "Write a python code to calculate the area of a rectangle using parametrized and default constructors."
      ]
    },
    {
      "cell_type": "code",
      "metadata": {
        "colab": {
          "base_uri": "https://localhost:8080/"
        },
        "id": "dZkYx7z1LeZX",
        "outputId": "7842584b-225c-4f82-c122-51424b6d609c"
      },
      "source": [
        "class rectangle():\n",
        "\n",
        "    def __init__(self,breadth,length):\n",
        "        self.breadth=breadth\n",
        "        self.length=length\n",
        "\n",
        "    def area(self):\n",
        "        return self.breadth*self.length\n",
        "\n",
        "l=int(input(\"Enter length of rectangle: \"))\n",
        "w=int(input(\"Enter breadth of rectangle: \"))\n",
        "\n",
        "NewRectangle=rectangle(a,b)\n",
        "\n",
        "print(\"Area of rectangle:\",NewRectangle.area())"
      ],
      "execution_count": 22,
      "outputs": [
        {
          "output_type": "stream",
          "name": "stdout",
          "text": [
            "Enter length of rectangle: 12\n",
            "Enter breadth of rectangle: 45\n",
            "Area of rectangle: 2622\n"
          ]
        }
      ]
    },
    {
      "cell_type": "markdown",
      "metadata": {
        "id": "wO2AZs8YOHO9"
      },
      "source": [
        "Write a python program to implement queue operations using constructors and destructors"
      ]
    },
    {
      "cell_type": "code",
      "metadata": {
        "colab": {
          "base_uri": "https://localhost:8080/"
        },
        "id": "e0Rud_CmOIMJ",
        "outputId": "d601dbfd-5c4c-482d-8df8-aa8423061a3b"
      },
      "source": [
        "class Queue(object):\n",
        "    def __init__(self, size):\n",
        "        self.queue = []\n",
        "        self.size = size\n",
        "\n",
        "    def __str__(self):\n",
        "        myString = ' '.join(str(i) for i in self.queue)\n",
        "        return myString\n",
        "\n",
        "    def enqueue(self, item):\n",
        "        if(self.isFull() != True):\n",
        "            self.queue.insert(0, item)\n",
        "        else:\n",
        "            print('Queue is Full!')\n",
        "\n",
        "    def dequeue(self):\n",
        "        if(self.isEmpty() != True):\n",
        "            return self.queue.pop()\n",
        "        else:\n",
        "            print('Queue is Empty!')\n",
        "\n",
        "    def isEmpty(self):\n",
        "        return self.queue == []\n",
        "\n",
        "    def isFull(self):\n",
        "        return len(self.queue) == self.size\n",
        "\n",
        "    def peek(self):\n",
        "        if(self.isEmpty() != True):\n",
        "            return self.queue[-1]\n",
        "        else:\n",
        "            print('Queue is Empty!')\n",
        "            \n",
        "\n",
        "if __name__ == '__main__':\n",
        "    myQueue = Queue(10)\n",
        "    myQueue.enqueue(4)\n",
        "    myQueue.enqueue(5)\n",
        "    myQueue.enqueue(6)\n",
        "    \n",
        "    print(myQueue)\n",
        "    \n",
        "    myQueue.enqueue(1)\n",
        "    myQueue.enqueue(2)\n",
        "    myQueue.enqueue(3)\n",
        "    \n",
        "    print(myQueue)\n",
        "    \n",
        "    myQueue.dequeue()\n",
        "    \n",
        "    print(myQueue)"
      ],
      "execution_count": 27,
      "outputs": [
        {
          "output_type": "stream",
          "name": "stdout",
          "text": [
            "6 5 4\n",
            "3 2 1 6 5 4\n",
            "3 2 1 6 5\n"
          ]
        }
      ]
    }
  ]
}