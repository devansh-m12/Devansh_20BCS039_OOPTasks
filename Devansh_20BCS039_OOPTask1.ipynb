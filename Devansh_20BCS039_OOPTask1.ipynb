{
  "nbformat": 4,
  "nbformat_minor": 0,
  "metadata": {
    "colab": {
      "name": "Devansh_20BCS039_OOPTask1.ipynb",
      "provenance": [],
      "authorship_tag": "ABX9TyP8xPtU8yNIaISGEFi0C6Hd",
      "include_colab_link": true
    },
    "kernelspec": {
      "name": "python3",
      "display_name": "Python 3"
    },
    "language_info": {
      "name": "python"
    }
  },
  "cells": [
    {
      "cell_type": "markdown",
      "metadata": {
        "id": "view-in-github",
        "colab_type": "text"
      },
      "source": [
        "<a href=\"https://colab.research.google.com/github/devansh-m12/Devansh_20BCS039_OOPTask1/blob/main/Devansh_20BCS039_OOPTask1.ipynb\" target=\"_parent\"><img src=\"https://colab.research.google.com/assets/colab-badge.svg\" alt=\"Open In Colab\"/></a>"
      ]
    },
    {
      "cell_type": "markdown",
      "metadata": {
        "id": "qO6HDrepnyIF"
      },
      "source": [
        "An extra day is added to the calendar almost every four years as February 29, and the day is called a leap day. It corrects the calendar for the fact that our planet takes approximately 365.25 days to orbit the sun. A leap year contains a leap day.\n",
        "In the Gregorian calendar, three conditions are used to identify leap years:\n",
        "The year can be evenly divided by 4, is a leap year, unless:\n",
        "The year can be evenly divided by 100, it is NOT a leap year, unless:\n",
        "The year is also evenly divisible by 400. Then it is a leap year.\n",
        "Write function to decide whether it is a leap year. If it is a leap year, return the Boolean True, otherwise return False."
      ]
    },
    {
      "cell_type": "code",
      "metadata": {
        "colab": {
          "base_uri": "https://localhost:8080/"
        },
        "id": "Pb34_buyml3D",
        "outputId": "4ef230ee-4d76-4347-9322-76bd70706d17"
      },
      "source": [
        "def is_leap(year):\n",
        "    leap = False\n",
        " \n",
        "    if year%4==0:\n",
        "        if year%100==0:\n",
        "            if year%400==0:\n",
        "                leap=True\n",
        "            else:\n",
        "                leap=False\n",
        "        else:\n",
        "             leap=True\n",
        "    else:\n",
        "        leap=False\n",
        "\n",
        "    return leap\n",
        "\n",
        "\n",
        "\n",
        "year = int(input('Enter The Year :' ))\n",
        "print(is_leap(year))"
      ],
      "execution_count": 72,
      "outputs": [
        {
          "output_type": "stream",
          "name": "stdout",
          "text": [
            "Enter The Year :1998\n",
            "False\n"
          ]
        }
      ]
    },
    {
      "cell_type": "markdown",
      "metadata": {
        "id": "FR7EmImPn3YO"
      },
      "source": [
        "Given an integer ‘n’, write a python code to perform the following conditional actions:\n",
        "If ‘n’ is odd, print Weird\n",
        "If ‘n’ is even and in the inclusive range of 2 to 5, print Not Weird\n",
        "If ‘n’ is even and in the inclusive range of 6 to 20, print Weird\n",
        "If ‘n’ is even and greater than 20, print Not Weird"
      ]
    },
    {
      "cell_type": "code",
      "metadata": {
        "colab": {
          "base_uri": "https://localhost:8080/"
        },
        "id": "lP77U0FBnYay",
        "outputId": "83c0284b-24a2-4d65-9574-6981c2ea9634"
      },
      "source": [
        "n = int(input('Enter The Number : '))\n",
        "if n % 2 == 1:\n",
        "    print(\"Weird\")\n",
        "elif n % 2 == 0 and 2 <= n <= 5:\n",
        "    print(\"Not Weird\")\n",
        "elif n % 2 == 0 and 6 <= n <= 20:\n",
        "    print(\"Weird\")\n",
        "else:\n",
        "    print(\"Not Weird\")"
      ],
      "execution_count": 74,
      "outputs": [
        {
          "output_type": "stream",
          "name": "stdout",
          "text": [
            "Enter The Number : 19\n",
            "Weird\n"
          ]
        }
      ]
    },
    {
      "cell_type": "markdown",
      "metadata": {
        "id": "oLrRaNWNn7Bd"
      },
      "source": [
        "The following list represents a party with 7 guests, in which ‘Hardik’ showed up first and ‘Rahane’ was the last to arrive:\n",
        "\n",
        "    Arrivals = ['Hardik', 'Rahul', 'Virat', 'Rishabh’, ‘Mahi’ 'Rohit', 'Rahane']\n",
        "\n",
        "A guest is considered 'fashionably late' if they arrived after at least half of the party's guests. However, they must not be the very last guest (that's taking it too far). In the above example, ‘rishabh’, ‘Mahi’ and ‘Rohit’ are the only guests who were fashionably late.\n",
        "\n",
        "Write the function which takes a list of party attendees as well as a person, and tells us whether that person is fashionably late.\n"
      ]
    },
    {
      "cell_type": "code",
      "metadata": {
        "colab": {
          "base_uri": "https://localhost:8080/"
        },
        "id": "ui4d2PlcsCaI",
        "outputId": "e6627c3b-3a42-46a8-b577-b547fbf90d8e"
      },
      "source": [
        "Guest_List = ['Hardik', 'Rahul', 'Virat', 'Rishabh', 'Mahi', 'Rohit', 'Rahane']\n",
        "Guest_Name = str(input('Enter Guest Name :-'))\n",
        "\n",
        "def Find_Guest_Fashionably_Late(Guest_List , Guest_Name) :\n",
        "   Count_of_Guests = len(Guest_List)\n",
        "\n",
        "Half_of_Guest = (Count_of_Guests // 2) + ( 0 if Count_of_Guests % 2 == 0 else 1)\n",
        "\n",
        "Guest_arrv_pos = Guest_List.index(Guest_Name)\n",
        "\n",
        "if Guest_arrv_pos > Half_of_Guest and Guest_arrv_pos < Count_of_Guests :\n",
        "    print(\"The Guest , \",Guest_Name , \" is NOT Fashionably Late .\")\n",
        "else:\n",
        "    print(\"The Guest , \",Guest_Name , \" is Fashionably Late .\")"
      ],
      "execution_count": 75,
      "outputs": [
        {
          "output_type": "stream",
          "name": "stdout",
          "text": [
            "Enter Guest Name :-Mahi\n",
            "The Guest ,  Mahi  is Fashionably Late .\n"
          ]
        }
      ]
    },
    {
      "cell_type": "markdown",
      "metadata": {
        "id": "r6WnlV3WwItv"
      },
      "source": [
        "A researcher has gathered thousands of news articles. But she wants to focus her attention on articles including a specific word. Write a function to help her filter her list of articles.\n",
        "Your function should meet the following criteria:\n",
        "Do not include documents where the keyword string shows up only as a part of a larger word. For example, if she were looking for the keyword “closed”, you would not include the string “enclosed.”\n",
        "She does not want you to distinguish upper case from lower case letters. So the phrase “Closed the case.” would be included when the keyword is “closed”\n",
        "Do not let periods or commas affect what is matched. “It is closed.” would be included when the keyword is “closed”. But you can assume there are no other types of punctuation.\n",
        "\n",
        "Assume, doc_list = [\"The Learn Python Challenge Rohit.\", \"They bought a car\", \"bangalore\"]"
      ]
    },
    {
      "cell_type": "code",
      "metadata": {
        "colab": {
          "base_uri": "https://localhost:8080/"
        },
        "id": "ARWdAHE9wJnu",
        "outputId": "88800854-56ea-4568-c023-b86febd8e422"
      },
      "source": [
        "def word_search_2(title_list, keyword):\n",
        "    keyword = keyword.lower().strip('.,')\n",
        "\n",
        "    result_list = []\n",
        "    for i, title in enumerate(title_list):\n",
        "\n",
        "        words = title.lower().strip('.,').split()\n",
        "\n",
        "        if keyword in words:\n",
        "            result_list.append((i, title))\n",
        "\n",
        "    return result_list\n",
        "\n",
        "if __name__ == '__main__':\n",
        "    docs = [\"The Learn Python Challenge Rohit.\", \"I love Python\", \"Python is Easy Language\",\"OOP is Python Based Cource\", \"They bought a car\", \"bangalore\"]\n",
        "    w = str(input('Enter the word to search : '))\n",
        "\n",
        "    print(word_search_2(docs, w))"
      ],
      "execution_count": 76,
      "outputs": [
        {
          "output_type": "stream",
          "name": "stdout",
          "text": [
            "Enter the word to search : python\n",
            "[(0, 'The Learn Python Challenge Rohit.'), (1, 'I love Python'), (2, 'Python is Easy Language'), (3, 'OOP is Python Based Cource')]\n"
          ]
        }
      ]
    },
    {
      "cell_type": "markdown",
      "metadata": {
        "id": "dYkSfD2NyQ4X"
      },
      "source": [
        "An Employee's Basic Pay (BP) is to be read from user. DA is 40% of BP, HRA is 20% of BP, and write a function to calculate the Gross Pay (GP) GP is computed as BP + DA + HRA."
      ]
    },
    {
      "cell_type": "code",
      "metadata": {
        "colab": {
          "base_uri": "https://localhost:8080/"
        },
        "id": "3SphgU_byTai",
        "outputId": "cc478114-67fa-4cd8-9de1-bfb17c2948fc"
      },
      "source": [
        "BP = int(input('Employee Basic Pay (BP) : '))\n",
        "DA = BP*(40/100)\n",
        "print('DA of Employee is ,',DA)\n",
        "HRA = BP*(20/100)\n",
        "print('HRA of Employee is ,',HRA)\n",
        "GP = BP + DA + HRA\n",
        "print('Gross Pay (GP) of Employee is ,',GP)"
      ],
      "execution_count": 77,
      "outputs": [
        {
          "output_type": "stream",
          "name": "stdout",
          "text": [
            "Employee Basic Pay (BP) : 15110\n",
            "DA of Employee is , 6044.0\n",
            "HRA of Employee is , 3022.0\n",
            "Gross Pay (GP) of Employee is , 24176.0\n"
          ]
        }
      ]
    }
  ]
}