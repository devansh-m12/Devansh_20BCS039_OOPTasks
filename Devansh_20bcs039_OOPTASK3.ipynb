{
  "nbformat": 4,
  "nbformat_minor": 0,
  "metadata": {
    "colab": {
      "name": "Devansh_20bcs039_OOPTASK3.ipynb",
      "provenance": [],
      "authorship_tag": "ABX9TyObcKWSvqhuI1HAj0N8mpEh",
      "include_colab_link": true
    },
    "kernelspec": {
      "name": "python3",
      "display_name": "Python 3"
    },
    "language_info": {
      "name": "python"
    }
  },
  "cells": [
    {
      "cell_type": "markdown",
      "metadata": {
        "id": "view-in-github",
        "colab_type": "text"
      },
      "source": [
        "<a href=\"https://colab.research.google.com/github/devansh-m12/Devansh_20BCS039_OOPTasks/blob/main/Devansh_20bcs039_OOPTASK3.ipynb\" target=\"_parent\"><img src=\"https://colab.research.google.com/assets/colab-badge.svg\" alt=\"Open In Colab\"/></a>"
      ]
    },
    {
      "cell_type": "markdown",
      "metadata": {
        "id": "7F1gYJqmz-ej"
      },
      "source": [
        "Write a python program to demonstrate the inheritance principle of OOP. Create a Student class that includes student’s basic information : Name, Reg no, Age, Gender, Branch, Sem. Define functions to read and display basic information. Create a new class StudentResultInfo that inherits from Student class. Derived class will include student’s total marks, percentage and grade. Display student’s basic information and result information using derived class."
      ]
    },
    {
      "cell_type": "code",
      "metadata": {
        "colab": {
          "base_uri": "https://localhost:8080/",
          "height": 0
        },
        "id": "JmZJ85gez9Pj",
        "outputId": "9851c40c-c956-4915-a3db-b21175d3b60b"
      },
      "source": [
        "class Student:\n",
        "  def getInfo(self):\n",
        "    self.name = input(\"Enter student's name: \")\n",
        "    self.regNo = int(input(\"Enter registration number: \"))\n",
        "    self.age = int(input(\"Enter student's age: \"))\n",
        "    self.gender = input(\"Enter student's gender: \")\n",
        "    self.branch = input(\"Enter student's branch: \")\n",
        "    self.sem = int(input(\"Enter semester: \"))\n",
        "\n",
        "  def displayBasicInfo(self):\n",
        "    print(\"Name:\", self.name+\",\", \"Reg. no.:\", str(self.regNo)+\",\", \"Age:\", str(self.age)+',', \"Gender:\",self.gender+',',\"Branch:\", self.branch+',', \"Semester:\",self.sem)\n",
        "\n",
        "class StudentResultInfo(Student):\n",
        "  def __init__(self, tmarks, percentage, grade):\n",
        "    self.tmarks = tmarks\n",
        "    self.percentage = percentage\n",
        "    self.grade = grade\n",
        "\n",
        "  def displayInfo(self):\n",
        "    print(\"\\nMore\")\n",
        "    self.displayBasicInfo()\n",
        "    print(\"RESULTS\\nTotal marks:\", str(self.tmarks)+',', \"Percentage:\", str(self.percentage)+'%,', \"Grade:\", self.grade)\n",
        "\n",
        "std1 = StudentResultInfo(481, 96, 'A')\n",
        "std1.getInfo()\n",
        "std1.displayBasicInfo()\n",
        "std1.displayInfo()"
      ],
      "execution_count": 6,
      "outputs": [
        {
          "output_type": "stream",
          "name": "stdout",
          "text": [
            "Enter student's name: devansh\n",
            "Enter registration number: 39\n",
            "Enter student's age: 19\n",
            "Enter student's gender: male\n",
            "Enter student's branch: cse\n",
            "Enter semester: 3\n",
            "Name: devansh, Reg. no.: 39, Age: 19, Gender: male, Branch: cse, Semester: 3\n",
            "\n",
            "More\n",
            "Name: devansh, Reg. no.: 39, Age: 19, Gender: male, Branch: cse, Semester: 3\n",
            "RESULTS\n",
            "Total marks: 495, Percentage: 98%, Grade: A+\n"
          ]
        }
      ]
    },
    {
      "cell_type": "code",
      "metadata": {
        "colab": {
          "base_uri": "https://localhost:8080/",
          "height": 0
        },
        "id": "8W9isZnR7MQY",
        "outputId": "cedffe00-5521-491a-9b42-126da2a43fa8"
      },
      "source": [
        "class PDFs:\n",
        "  def __init__(self, creator, description, size):\n",
        "    self.creator = creator\n",
        "    self.description = description\n",
        "    self.size = size\n",
        "\n",
        "  def displayInfo(self):\n",
        "    print(\"Created by:\",self.creator)\n",
        "    print(\"Description:\", self.description)\n",
        "    print(\"File size (in KBs):\", self.size)\n",
        "\n",
        "  def sizeLimit(self):\n",
        "    if self.size > 256:\n",
        "      print(\"Size exceeds threshold.\\n\")\n",
        "    else:\n",
        "      print(\"Size is within the threshold.\\n\")\n",
        "\n",
        "class Pictures(PDFs):\n",
        "  def __init__(self, creator, description, size, dimension):\n",
        "    super().__init__(creator, description, size)\n",
        "    self.dimension = dimension\n",
        "\n",
        "  def displayPicInfo(self):\n",
        "    self.displayInfo()\n",
        "    print(\"Dimensions (in pixels):\", self.dimension)\n",
        "\n",
        "  def dimensionLimit(self):\n",
        "    if self.dimension>2000:\n",
        "      print(\"The picture is too high dimension!\\n\")\n",
        "    else:\n",
        "      print(\"The picture's dimensions are fine.\\n\")\n",
        "\n",
        "pdf1 = PDFs(\"Vaibhav\", \"OOP\", 114)\n",
        "pdf1.displayInfo()\n",
        "pdf1.sizeLimit()\n",
        "print()\n",
        "img = Pictures(\"Harsh\", \"laboratory\", 1430, 3100)\n",
        "img.displayPicInfo()\n",
        "img.dimensionLimit()"
      ],
      "execution_count": 7,
      "outputs": [
        {
          "output_type": "stream",
          "name": "stdout",
          "text": [
            "Created by: Vaibhav\n",
            "Description: OOP\n",
            "File size (in KBs): 114\n",
            "Size is within the threshold.\n",
            "\n",
            "\n",
            "Created by: Harsh\n",
            "Description: laboratory\n",
            "File size (in KBs): 1430\n",
            "Dimensions (in pixels): 3100\n",
            "The picture is too high dimension!\n",
            "\n"
          ]
        }
      ]
    },
    {
      "cell_type": "code",
      "metadata": {
        "colab": {
          "base_uri": "https://localhost:8080/",
          "height": 0
        },
        "id": "W303qr1Z7NIE",
        "outputId": "af6fc0d6-c3d3-4298-9691-131d00f9a22d"
      },
      "source": [
        "class Vehicle:\n",
        "  def __init__(self, name, mileage, capacity):\n",
        "    self.name = name\n",
        "    self.mileage = mileage\n",
        "    self.capacity = capacity\n",
        "\n",
        "  def fare(self):\n",
        "    return self.capacity*100\n",
        "\n",
        "class Bus(Vehicle):\n",
        "  def busFare(self):\n",
        "    return 1.1*self.fare()\n",
        "\n",
        "bus = Bus(\"TATA\", 3.63, 50)\n",
        "print(\"Name: {0.name}, Mileage: {0.mileage}Kmpl, Capacity: {0.capacity}, \\nBus fare: Rs. {1}\".format(bus, bus.busFare()))"
      ],
      "execution_count": 9,
      "outputs": [
        {
          "output_type": "stream",
          "name": "stdout",
          "text": [
            "Name: TATA, Mileage: 3.63Kmpl, Capacity: 50, \n",
            "Bus fare: Rs. 5500.0\n"
          ]
        }
      ]
    }
  ]
}